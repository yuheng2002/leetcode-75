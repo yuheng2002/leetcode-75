{
  "nbformat": 4,
  "nbformat_minor": 0,
  "metadata": {
    "colab": {
      "provenance": [],
      "include_colab_link": true
    },
    "kernelspec": {
      "name": "python3",
      "display_name": "Python 3"
    },
    "language_info": {
      "name": "python"
    }
  },
  "cells": [
    {
      "cell_type": "markdown",
      "metadata": {
        "id": "view-in-github",
        "colab_type": "text"
      },
      "source": [
        "<a href=\"https://colab.research.google.com/github/yuheng2002/leetcode-75/blob/main/Copy_of_CSE21_FA25_Expected_Value.ipynb\" target=\"_parent\"><img src=\"https://colab.research.google.com/assets/colab-badge.svg\" alt=\"Open In Colab\"/></a>"
      ]
    },
    {
      "cell_type": "markdown",
      "source": [
        "#Expected Value"
      ],
      "metadata": {
        "id": "HtXWhW4Xo8Gs"
      }
    },
    {
      "cell_type": "code",
      "source": [
        "import random\n",
        "import matplotlib.pyplot as plt\n",
        "import numpy as np"
      ],
      "metadata": {
        "id": "eHpa1dPedkh6"
      },
      "execution_count": null,
      "outputs": []
    },
    {
      "cell_type": "markdown",
      "source": [
        "## Part 1: Envelopes"
      ],
      "metadata": {
        "id": "pvy4eu-YdBG4"
      }
    },
    {
      "cell_type": "markdown",
      "source": [
        "**Recall the envelope problem**:\n",
        "___\n",
        "A child has just had a birthday party. He has written 20 thank-you notes and addressed 20 corresponding envelopes. But then he gets distracted, and puts the letters randomly into the envelopes (one letter per envelope). What is the expected number of letters that are in their correct envelopes?\n",
        "___\n",
        "For this exercise, all of the code already written for you. Read through it and then answer the first part of the quiz questions by running the code with different values of the variable $n$ where necessary."
      ],
      "metadata": {
        "id": "jT5PMMD8dGW8"
      }
    },
    {
      "cell_type": "markdown",
      "source": [
        "**Part 1 Questions (also on Canvas):**\n",
        "\n",
        "1. With 20 envelopes, what is the average value you get with the code provided after sampling 10 times?\n",
        "\n",
        "2. With 20 envelopes, what is the average value you get with the code provided after sampling 1000 times?\n",
        "\n",
        "3. With 1000 envelopes, what is the expected value you get with the code provided after sampling 1000 times?\n",
        "\n",
        "4. The strategy used to randomly sample which letter goes into which envelope in the provided code is ______ sampling, which is a uniform sampling method.\n",
        "\n",
        "5. Experiment with different numbers of envelopes and number of simulations and answer the following:\n",
        "\n",
        "- Does the expected value change if the number of envelopes changes. In broad terms, why do you think that is?\n",
        "\n",
        "- What do you notice happens to the average as the number of simulations increases? How many simulations are theoretically required to achieve perfect accuracy for the expected value (hopefully this helps you see why despite us being able to simulate these situations fairly easily, the conceptual expected value approach is still necessary)?\n",
        "\n",
        "(1-2 sentence responses are sufficient)\n",
        "\n"
      ],
      "metadata": {
        "id": "gKMXJ7c7K7A8"
      }
    },
    {
      "cell_type": "code",
      "execution_count": null,
      "metadata": {
        "id": "S2GpzseSdOc-"
      },
      "outputs": [],
      "source": [
        "'''\n",
        "Run a single sample of the envelope problem by randomly placing letters into\n",
        "envelopes.\n",
        "\n",
        "params:\n",
        "int n: number of envelopes/letters\n",
        "'''\n",
        "def envelope_sample(n):\n",
        "  envelopes = list(range(0, n));\n",
        "  num_correct = 0\n",
        "\n",
        "  for i in range(n):\n",
        "    #Start of sampling method referred to in Q4:\n",
        "    chosen_letter = random.randint(0, n - 1)\n",
        "\n",
        "    while (envelopes[chosen_letter] == -1):\n",
        "      chosen_letter = random.randint(0, n - 1)\n",
        "\n",
        "    if (envelopes[chosen_letter] == i):\n",
        "      num_correct += 1\n",
        "\n",
        "    envelopes[chosen_letter] = -1\n",
        "\n",
        "  return num_correct"
      ]
    },
    {
      "cell_type": "code",
      "source": [
        "'''\n",
        "Run multiple simulations of the envelope problem.\n",
        "\n",
        "params:\n",
        "int num_simulations: number of simulations to run\n",
        "int num_envelopes: number of envelopes/letters\n",
        "\n",
        "return\n",
        "np.array results: results of each simulation\n",
        "float mean: average of the results\n",
        "'''\n",
        "def simulate_envelope(num_simulations, num_envelopes):\n",
        "  results = np.array([envelope_sample(num_envelopes) for _ in range(num_simulations)])\n",
        "  return results, np.mean(results)"
      ],
      "metadata": {
        "id": "MEyxa1d-f581"
      },
      "execution_count": null,
      "outputs": []
    },
    {
      "cell_type": "code",
      "source": [
        "#Use this cell to change the number of simulations and envelopes\n",
        "sim_results = simulate_envelope(10, 20)\n",
        "print(sim_results[1])"
      ],
      "metadata": {
        "id": "eL8e0aW7nzV0"
      },
      "execution_count": null,
      "outputs": []
    },
    {
      "cell_type": "markdown",
      "source": [
        "If you are curious about the distribution of the results across your simulations:"
      ],
      "metadata": {
        "id": "e8fqhAOQtQcL"
      }
    },
    {
      "cell_type": "code",
      "source": [
        "unique = list(set(sim_results[0]))\n",
        "counts = [np.sum(sim_results[0] == value) for value in unique]\n",
        "\n",
        "plt.bar(range(len(unique)), counts)\n",
        "plt.xlabel(\"Number of letters correctly assigned to envelopes\")\n",
        "plt.ylabel(\"Number of times outcome was observed\")\n",
        "plt.show()"
      ],
      "metadata": {
        "id": "BVYhkNNMhbG9"
      },
      "execution_count": null,
      "outputs": []
    },
    {
      "cell_type": "markdown",
      "source": [
        "## Part 2: Zombies"
      ],
      "metadata": {
        "id": "z4BO2rJudJgc"
      }
    },
    {
      "cell_type": "markdown",
      "source": [
        "**Recall the zombie virus outbreak problem from HW4:**\n",
        "___\n",
        "A person (patient 0) is infected with the zombie virus.\n",
        "There is a 4/9 chance that an infected person turns into a zombie. Once a person turns into a zombie, it will infect 2 other people before it dies.\n",
        "___\n",
        "The function for the original problem with a probability of 4/9 and 2 infections per zombie is already given to you below.\n",
        "Your task is to implement the function that would simulate this problem for any given probability $p$ and any number of infections $n$ and use it to answer the second part of the quiz questions."
      ],
      "metadata": {
        "id": "YAEmcpNYkUwU"
      }
    },
    {
      "cell_type": "markdown",
      "source": [
        "**Part 2 Questions (also on Canvas)**\n",
        "\n",
        "1. With the original 4/9 infection chance and 2 infections per zombie, what is the average number of infections you get after sampling 100000 times with the provided code?\n",
        "\n",
        "2. With the original 4/9 infection chance and 2 infections per zombie, what is the average number of zombies you get after sampling 100000 times with the provided code?\n",
        "\n"
      ],
      "metadata": {
        "id": "lE0TAB48LXGi"
      }
    },
    {
      "cell_type": "code",
      "source": [
        "total_infections = 0\n",
        "total_zombies = 0\n",
        "\n",
        "'''\n",
        "Run one sample of the zombie virus outbreak problem.\n",
        "Stores total number of infections and zombies after the\n",
        "outbreak is finished as global variables.\n",
        "'''\n",
        "def zombie_sample():\n",
        "  global total_infections\n",
        "  global total_zombies\n",
        "\n",
        "  total_infections += 1\n",
        "\n",
        "  if (random.random() < 4/9):\n",
        "    total_zombies += 1\n",
        "\n",
        "    #recursively trigger two more infections\n",
        "    zombie_sample()\n",
        "    zombie_sample()\n",
        "\n",
        "  return"
      ],
      "metadata": {
        "id": "9Fej62jfdLfi"
      },
      "execution_count": null,
      "outputs": []
    },
    {
      "cell_type": "code",
      "source": [
        "'''\n",
        "Run multiple simulations of the original zombie virus outbreak problem.\n",
        "\n",
        "params:\n",
        "int num_simulations: number of simulations to run\n",
        "\n",
        "return\n",
        "infections: average number of infections\n",
        "zombies: average number of zombies\n",
        "'''\n",
        "def simulate_zombie(num_simulations):\n",
        "  global total_infections\n",
        "  global total_zombies\n",
        "\n",
        "  infections = np.zeros(num_simulations)\n",
        "  zombies = np.zeros(num_simulations)\n",
        "\n",
        "  for i in range(num_simulations):\n",
        "      total_infections = 0\n",
        "      total_zombies = 0\n",
        "\n",
        "      zombie_sample()\n",
        "\n",
        "      infections[i] = total_infections\n",
        "      zombies[i] = total_zombies\n",
        "\n",
        "  return np.mean(infections), np.mean(zombies)"
      ],
      "metadata": {
        "id": "O2W5b3wwmRBK"
      },
      "execution_count": null,
      "outputs": []
    },
    {
      "cell_type": "code",
      "source": [
        "print(simulate_zombie(100000))"
      ],
      "metadata": {
        "id": "Whir0fQMpYDb"
      },
      "execution_count": null,
      "outputs": []
    },
    {
      "cell_type": "markdown",
      "source": [
        "Write the function below to help answer questions for part 2, the function header and the simulation function have already been provided\n",
        "\n",
        "**Remaining part 2 questions (also on Canvas):**\n",
        "\n",
        "1. With a 43/90 infection chance and 2 infections per zombie, what is the average number of infections you get after sampling 100000 times with zombie_sample_2?\n",
        "\n",
        "2. With a 43/90 infection chance and 2 infections per zombie, what is the average number of zombies you get after sampling 100000 times with zombie_sample_2?\n",
        "\n",
        "3. With a 1/4 infection chance and 2 infections per zombie, what is the average number of infections you get after sampling 100000 times with zombie_sample_2?\n",
        "\n",
        "4. With a 1/4 infection chance and 2 infections per zombie, what is the average number of zombies you get after sampling 100000 times with zombie_sample_2?\n",
        "\n",
        "5. With a 1/4 infection chance and 3 infections per zombie, what is the average number of infections you get after sampling 100000 times with zombie_sample_2?\n",
        "\n",
        "6. With a 1/4 infection chance and 3 infections per zombie, what is the average number of zombies you get after sampling 100000 times with zombie_sample_2?\n",
        "\n",
        "7. With a 15/1000 infection chance and 50 infections per zombie, what is the average number of infections you get after sampling 100000 times with zombie_sample_2?\n",
        "\n",
        "8. With a 15/1000 infection chance and 50 infections per zombie, what is the average number of zombies you get after sampling 100000 times with zombie_sample_2?\n",
        "\n",
        "9. Based on what you observed make a prediction. For each zombie infecting 2 people, what would the minimum infection chance have to be for a total zombie apocalypse (in other words the expected value of both infections and zombies approaches infinity)?\n",
        "If you want to test this, attempting to run even a single sample with that probability or higher will result in a RecursionError.\n",
        "\n",
        "10. Experiment with different numbers of envelopes and number of simulations and answer the following:\n",
        "\n",
        "- In broad terms, justify your answer to the last question, why does that probability result in an infinite expected value of both infections and zombies?\n",
        "\n",
        "- Generalize that observation, for any number of infections per zombie n, what does the probability have to be for a total zombie apocalypse, why?\n",
        "\n",
        "(1-2 sentence responses are sufficient)"
      ],
      "metadata": {
        "id": "umz5JwPwrEag"
      }
    },
    {
      "cell_type": "code",
      "source": [
        "total_infections = 0\n",
        "total_zombies = 0\n",
        "\n",
        "'''\n",
        "Run one sample of the zombie virus outbreak problem.\n",
        "Stores total number of infections and zombies after the\n",
        "outbreak is finished as global variables.\n",
        "\n",
        "params:\n",
        "int p: probability of becoming a zombie\n",
        "int n: number of infections per zombie\n",
        "'''\n",
        "def zombie_sample_2(p, n):\n",
        "  global total_infections\n",
        "  global total_zombies\n",
        "\n",
        "  #TODO\n",
        "\n",
        "  return"
      ],
      "metadata": {
        "id": "-QbYSTaRrqP7"
      },
      "execution_count": null,
      "outputs": []
    },
    {
      "cell_type": "code",
      "source": [
        "'''\n",
        "Run multiple simulations of the zombie virus outbreak problem.\n",
        "\n",
        "params:\n",
        "int num_simulations: number of simulations to run\n",
        "int p: probability of becoming a zombie\n",
        "int n: number of infections per zombie\n",
        "\n",
        "return\n",
        "infections: average number of infections\n",
        "zombies: average number of zombies\n",
        "'''\n",
        "def simulate_zombie_2(num_simulations, p, n):\n",
        "  global total_infections\n",
        "  global total_zombies\n",
        "\n",
        "  infections = np.zeros(num_simulations)\n",
        "  zombies = np.zeros(num_simulations)\n",
        "\n",
        "  for i in range(num_simulations):\n",
        "      total_infections = 0\n",
        "      total_zombies = 0\n",
        "\n",
        "      zombie_sample_2(p, n)\n",
        "\n",
        "      infections[i] = total_infections\n",
        "      zombies[i] = total_zombies\n",
        "\n",
        "  return np.mean(infections), np.mean(zombies)"
      ],
      "metadata": {
        "id": "f0F0-iWzrdAi"
      },
      "execution_count": null,
      "outputs": []
    },
    {
      "cell_type": "code",
      "source": [
        "#Uncomment the function call below and run with different arguments\n",
        "\n",
        "#print(simulate_zombie_2(100000, 1/3, 2))"
      ],
      "metadata": {
        "id": "T2vTHapWsJI9"
      },
      "execution_count": null,
      "outputs": []
    },
    {
      "cell_type": "markdown",
      "source": [
        "**Additional Challenge**: This will not be graded and there are no quiz questions related to this, but it's a good exercise in coding probability.\n",
        "\n",
        "Recall part (c) of the question, which asks for the probability of there being exactly 3 zombies with the original problem of 4/9 infection chance and 2 infections per zombie.\n",
        "\n",
        "Write a function below that would give you the probability for that scenario and double check if it matches up with the probability you got using the theoretical probability calculation.\n",
        "\n",
        "Hint: Recall $P = |E|/|S|$, so finding the probability of something experimentally should involve simulating it multiple times and checking how many of those match the specific outcome you're looking for."
      ],
      "metadata": {
        "id": "GNGmLc-N7Y02"
      }
    },
    {
      "cell_type": "code",
      "source": [
        "#Write additional challenge function here"
      ],
      "metadata": {
        "id": "-YKCNLEW8U7h"
      },
      "execution_count": null,
      "outputs": []
    }
  ]
}